{
 "cells": [
  {
   "cell_type": "markdown",
   "id": "d7b0f74a",
   "metadata": {
    "papermill": {
     "duration": 0.010192,
     "end_time": "2024-06-13T18:29:25.416800",
     "exception": false,
     "start_time": "2024-06-13T18:29:25.406608",
     "status": "completed"
    },
    "tags": []
   },
   "source": [
    "# **The objective of this project is to analyze the performance of Chase Bank branches across the United States, identifying trends, opportunities, and areas for improvement. The analysis aims to provide insights that will inform business strategies and optimize branch operations.**"
   ]
  },
  {
   "cell_type": "code",
   "execution_count": 1,
   "id": "9a0b203c",
   "metadata": {
    "_cell_guid": "b1076dfc-b9ad-4769-8c92-a6c4dae69d19",
    "_uuid": "8f2839f25d086af736a60e9eeb907d3b93b6e0e5",
    "execution": {
     "iopub.execute_input": "2024-06-13T18:29:25.439087Z",
     "iopub.status.busy": "2024-06-13T18:29:25.438645Z",
     "iopub.status.idle": "2024-06-13T18:29:25.457874Z",
     "shell.execute_reply": "2024-06-13T18:29:25.456580Z"
    },
    "papermill": {
     "duration": 0.0332,
     "end_time": "2024-06-13T18:29:25.460160",
     "exception": false,
     "start_time": "2024-06-13T18:29:25.426960",
     "status": "completed"
    },
    "tags": []
   },
   "outputs": [
    {
     "name": "stdout",
     "output_type": "stream",
     "text": [
      "/kaggle/input/bank-deposits/database.csv\n"
     ]
    }
   ],
   "source": [
    "#Getting File Directory/Path\n",
    "import os\n",
    "for dirname, _, filenames in os.walk('/kaggle/input'):\n",
    "    for filename in filenames:\n",
    "        print(os.path.join(dirname, filename))"
   ]
  },
  {
   "cell_type": "code",
   "execution_count": 2,
   "id": "70a4ac57",
   "metadata": {
    "execution": {
     "iopub.execute_input": "2024-06-13T18:29:25.483238Z",
     "iopub.status.busy": "2024-06-13T18:29:25.482501Z",
     "iopub.status.idle": "2024-06-13T18:29:27.703258Z",
     "shell.execute_reply": "2024-06-13T18:29:27.702238Z"
    },
    "papermill": {
     "duration": 2.235631,
     "end_time": "2024-06-13T18:29:27.706000",
     "exception": false,
     "start_time": "2024-06-13T18:29:25.470369",
     "status": "completed"
    },
    "tags": []
   },
   "outputs": [],
   "source": [
    "# Importing Necessary Libraries\n",
    "import numpy as np\n",
    "import pandas as pd\n",
    "import matplotlib.pyplot as plt\n",
    "import seaborn as sns"
   ]
  },
  {
   "cell_type": "code",
   "execution_count": 3,
   "id": "3e569401",
   "metadata": {
    "execution": {
     "iopub.execute_input": "2024-06-13T18:29:27.728824Z",
     "iopub.status.busy": "2024-06-13T18:29:27.727699Z",
     "iopub.status.idle": "2024-06-13T18:29:27.791610Z",
     "shell.execute_reply": "2024-06-13T18:29:27.790393Z"
    },
    "papermill": {
     "duration": 0.078222,
     "end_time": "2024-06-13T18:29:27.794437",
     "exception": false,
     "start_time": "2024-06-13T18:29:27.716215",
     "status": "completed"
    },
    "tags": []
   },
   "outputs": [],
   "source": [
    "# Importing Dataset\n",
    "data = pd.read_csv(\"/kaggle/input/bank-deposits/database.csv\")"
   ]
  },
  {
   "cell_type": "code",
   "execution_count": 4,
   "id": "52916957",
   "metadata": {
    "execution": {
     "iopub.execute_input": "2024-06-13T18:29:27.817830Z",
     "iopub.status.busy": "2024-06-13T18:29:27.817486Z",
     "iopub.status.idle": "2024-06-13T18:29:27.852422Z",
     "shell.execute_reply": "2024-06-13T18:29:27.851227Z"
    },
    "papermill": {
     "duration": 0.05036,
     "end_time": "2024-06-13T18:29:27.855040",
     "exception": false,
     "start_time": "2024-06-13T18:29:27.804680",
     "status": "completed"
    },
    "tags": []
   },
   "outputs": [
    {
     "data": {
      "text/html": [
       "<div>\n",
       "<style scoped>\n",
       "    .dataframe tbody tr th:only-of-type {\n",
       "        vertical-align: middle;\n",
       "    }\n",
       "\n",
       "    .dataframe tbody tr th {\n",
       "        vertical-align: top;\n",
       "    }\n",
       "\n",
       "    .dataframe thead th {\n",
       "        text-align: right;\n",
       "    }\n",
       "</style>\n",
       "<table border=\"1\" class=\"dataframe\">\n",
       "  <thead>\n",
       "    <tr style=\"text-align: right;\">\n",
       "      <th></th>\n",
       "      <th>Institution Name</th>\n",
       "      <th>Main Office</th>\n",
       "      <th>Branch Name</th>\n",
       "      <th>Branch Number</th>\n",
       "      <th>Established Date</th>\n",
       "      <th>Acquired Date</th>\n",
       "      <th>Street Address</th>\n",
       "      <th>City</th>\n",
       "      <th>County</th>\n",
       "      <th>State</th>\n",
       "      <th>Zipcode</th>\n",
       "      <th>Latitude</th>\n",
       "      <th>Longitude</th>\n",
       "      <th>2010 Deposits</th>\n",
       "      <th>2011 Deposits</th>\n",
       "      <th>2012 Deposits</th>\n",
       "      <th>2013 Deposits</th>\n",
       "      <th>2014 Deposits</th>\n",
       "      <th>2015 Deposits</th>\n",
       "      <th>2016 Deposits</th>\n",
       "    </tr>\n",
       "  </thead>\n",
       "  <tbody>\n",
       "    <tr>\n",
       "      <th>0</th>\n",
       "      <td>JPMorgan Chase Bank</td>\n",
       "      <td>1</td>\n",
       "      <td>JPMorgan Chase Bank Main Office</td>\n",
       "      <td>0</td>\n",
       "      <td>01/01/1824</td>\n",
       "      <td>NaN</td>\n",
       "      <td>1111 Polaris Parkway</td>\n",
       "      <td>Columbus</td>\n",
       "      <td>Delaware</td>\n",
       "      <td>OH</td>\n",
       "      <td>43240</td>\n",
       "      <td>40.14453</td>\n",
       "      <td>-82.99115</td>\n",
       "      <td>633131000.0</td>\n",
       "      <td>743268000.0</td>\n",
       "      <td>832455000.0</td>\n",
       "      <td>916543000.0</td>\n",
       "      <td>1.032549e+09</td>\n",
       "      <td>1.069425e+09</td>\n",
       "      <td>1155185000</td>\n",
       "    </tr>\n",
       "    <tr>\n",
       "      <th>1</th>\n",
       "      <td>JPMorgan Chase Bank</td>\n",
       "      <td>0</td>\n",
       "      <td>Vernon Hills Scarsdale Branch</td>\n",
       "      <td>2</td>\n",
       "      <td>03/20/1961</td>\n",
       "      <td>NaN</td>\n",
       "      <td>676 White Plains Road</td>\n",
       "      <td>Scarsdale</td>\n",
       "      <td>Westchester</td>\n",
       "      <td>NY</td>\n",
       "      <td>10583</td>\n",
       "      <td>40.97008</td>\n",
       "      <td>-73.80670</td>\n",
       "      <td>293229.0</td>\n",
       "      <td>310791.0</td>\n",
       "      <td>325742.0</td>\n",
       "      <td>327930.0</td>\n",
       "      <td>3.277920e+05</td>\n",
       "      <td>3.414750e+05</td>\n",
       "      <td>381558</td>\n",
       "    </tr>\n",
       "    <tr>\n",
       "      <th>2</th>\n",
       "      <td>JPMorgan Chase Bank</td>\n",
       "      <td>0</td>\n",
       "      <td>Great Neck Northern Boulevard Branch</td>\n",
       "      <td>3</td>\n",
       "      <td>09/09/1963</td>\n",
       "      <td>NaN</td>\n",
       "      <td>410 Northern Boulevard</td>\n",
       "      <td>Great Neck</td>\n",
       "      <td>Nassau</td>\n",
       "      <td>NY</td>\n",
       "      <td>11021</td>\n",
       "      <td>40.77944</td>\n",
       "      <td>-73.72240</td>\n",
       "      <td>191011.0</td>\n",
       "      <td>206933.0</td>\n",
       "      <td>216439.0</td>\n",
       "      <td>237983.0</td>\n",
       "      <td>2.341830e+05</td>\n",
       "      <td>2.624550e+05</td>\n",
       "      <td>278940</td>\n",
       "    </tr>\n",
       "    <tr>\n",
       "      <th>3</th>\n",
       "      <td>JPMorgan Chase Bank</td>\n",
       "      <td>0</td>\n",
       "      <td>North Hartsdale Branch</td>\n",
       "      <td>4</td>\n",
       "      <td>02/19/1966</td>\n",
       "      <td>NaN</td>\n",
       "      <td>353 North Central Avenue</td>\n",
       "      <td>Hartsdale</td>\n",
       "      <td>Westchester</td>\n",
       "      <td>NY</td>\n",
       "      <td>10530</td>\n",
       "      <td>41.02654</td>\n",
       "      <td>-73.79168</td>\n",
       "      <td>87110.0</td>\n",
       "      <td>88367.0</td>\n",
       "      <td>93163.0</td>\n",
       "      <td>109659.0</td>\n",
       "      <td>1.119850e+05</td>\n",
       "      <td>1.167720e+05</td>\n",
       "      <td>140233</td>\n",
       "    </tr>\n",
       "    <tr>\n",
       "      <th>4</th>\n",
       "      <td>JPMorgan Chase Bank</td>\n",
       "      <td>0</td>\n",
       "      <td>Lawrence Rockaway Branch</td>\n",
       "      <td>5</td>\n",
       "      <td>01/16/1965</td>\n",
       "      <td>NaN</td>\n",
       "      <td>335 Rockaway Turnpike</td>\n",
       "      <td>Lawrence</td>\n",
       "      <td>Nassau</td>\n",
       "      <td>NY</td>\n",
       "      <td>11559</td>\n",
       "      <td>40.62715</td>\n",
       "      <td>-73.73675</td>\n",
       "      <td>172608.0</td>\n",
       "      <td>172749.0</td>\n",
       "      <td>189413.0</td>\n",
       "      <td>198445.0</td>\n",
       "      <td>2.051980e+05</td>\n",
       "      <td>2.232000e+05</td>\n",
       "      <td>235594</td>\n",
       "    </tr>\n",
       "  </tbody>\n",
       "</table>\n",
       "</div>"
      ],
      "text/plain": [
       "      Institution Name  Main Office                           Branch Name  \\\n",
       "0  JPMorgan Chase Bank            1       JPMorgan Chase Bank Main Office   \n",
       "1  JPMorgan Chase Bank            0         Vernon Hills Scarsdale Branch   \n",
       "2  JPMorgan Chase Bank            0  Great Neck Northern Boulevard Branch   \n",
       "3  JPMorgan Chase Bank            0                North Hartsdale Branch   \n",
       "4  JPMorgan Chase Bank            0              Lawrence Rockaway Branch   \n",
       "\n",
       "   Branch Number Established Date Acquired Date            Street Address  \\\n",
       "0              0       01/01/1824           NaN      1111 Polaris Parkway   \n",
       "1              2       03/20/1961           NaN     676 White Plains Road   \n",
       "2              3       09/09/1963           NaN    410 Northern Boulevard   \n",
       "3              4       02/19/1966           NaN  353 North Central Avenue   \n",
       "4              5       01/16/1965           NaN     335 Rockaway Turnpike   \n",
       "\n",
       "         City       County State  Zipcode  Latitude  Longitude  2010 Deposits  \\\n",
       "0    Columbus     Delaware    OH    43240  40.14453  -82.99115    633131000.0   \n",
       "1   Scarsdale  Westchester    NY    10583  40.97008  -73.80670       293229.0   \n",
       "2  Great Neck       Nassau    NY    11021  40.77944  -73.72240       191011.0   \n",
       "3   Hartsdale  Westchester    NY    10530  41.02654  -73.79168        87110.0   \n",
       "4    Lawrence       Nassau    NY    11559  40.62715  -73.73675       172608.0   \n",
       "\n",
       "   2011 Deposits  2012 Deposits  2013 Deposits  2014 Deposits  2015 Deposits  \\\n",
       "0    743268000.0    832455000.0    916543000.0   1.032549e+09   1.069425e+09   \n",
       "1       310791.0       325742.0       327930.0   3.277920e+05   3.414750e+05   \n",
       "2       206933.0       216439.0       237983.0   2.341830e+05   2.624550e+05   \n",
       "3        88367.0        93163.0       109659.0   1.119850e+05   1.167720e+05   \n",
       "4       172749.0       189413.0       198445.0   2.051980e+05   2.232000e+05   \n",
       "\n",
       "   2016 Deposits  \n",
       "0     1155185000  \n",
       "1         381558  \n",
       "2         278940  \n",
       "3         140233  \n",
       "4         235594  "
      ]
     },
     "execution_count": 4,
     "metadata": {},
     "output_type": "execute_result"
    }
   ],
   "source": [
    "# Taking a look at the dataset\n",
    "data.head()"
   ]
  },
  {
   "cell_type": "markdown",
   "id": "7b296b5d",
   "metadata": {
    "papermill": {
     "duration": 0.010045,
     "end_time": "2024-06-13T18:29:27.875584",
     "exception": false,
     "start_time": "2024-06-13T18:29:27.865539",
     "status": "completed"
    },
    "tags": []
   },
   "source": [
    "# *Data Cleaning and Preprocessing*"
   ]
  },
  {
   "cell_type": "code",
   "execution_count": 5,
   "id": "107329e9",
   "metadata": {
    "execution": {
     "iopub.execute_input": "2024-06-13T18:29:27.898371Z",
     "iopub.status.busy": "2024-06-13T18:29:27.897999Z",
     "iopub.status.idle": "2024-06-13T18:29:27.910855Z",
     "shell.execute_reply": "2024-06-13T18:29:27.909826Z"
    },
    "papermill": {
     "duration": 0.026737,
     "end_time": "2024-06-13T18:29:27.913039",
     "exception": false,
     "start_time": "2024-06-13T18:29:27.886302",
     "status": "completed"
    },
    "tags": []
   },
   "outputs": [
    {
     "data": {
      "text/plain": [
       "Institution Name       0\n",
       "Main Office            0\n",
       "Branch Name            0\n",
       "Branch Number          0\n",
       "Established Date       0\n",
       "Acquired Date       1615\n",
       "Street Address         0\n",
       "City                   0\n",
       "County                 0\n",
       "State                  0\n",
       "Zipcode                0\n",
       "Latitude              66\n",
       "Longitude             66\n",
       "2010 Deposits        740\n",
       "2011 Deposits        578\n",
       "2012 Deposits        329\n",
       "2013 Deposits        175\n",
       "2014 Deposits         56\n",
       "2015 Deposits         19\n",
       "2016 Deposits          0\n",
       "dtype: int64"
      ]
     },
     "execution_count": 5,
     "metadata": {},
     "output_type": "execute_result"
    }
   ],
   "source": [
    "# Checking For Missing Values\n",
    "data.isnull().sum()"
   ]
  },
  {
   "cell_type": "markdown",
   "id": "870cef12",
   "metadata": {
    "papermill": {
     "duration": 0.010403,
     "end_time": "2024-06-13T18:29:27.934080",
     "exception": false,
     "start_time": "2024-06-13T18:29:27.923677",
     "status": "completed"
    },
    "tags": []
   },
   "source": [
    "Out of the total number of branches in the dataset, 1615 branches do not have an 'Acquired Date' recorded.\n",
    "This could be because:\n",
    "\n",
    "- These branches were not acquired (they were newly established)\n",
    "- The acquisition date is not applicable (e.g., the branch was never acquired)\n",
    "- The data is missing or not available\n",
    "\n",
    "For this issue, i assume that these branches were newly established and as such, i proceed to impute the missing values with 'NA'."
   ]
  },
  {
   "cell_type": "code",
   "execution_count": 6,
   "id": "080d77cf",
   "metadata": {
    "execution": {
     "iopub.execute_input": "2024-06-13T18:29:27.958397Z",
     "iopub.status.busy": "2024-06-13T18:29:27.957713Z",
     "iopub.status.idle": "2024-06-13T18:29:27.964534Z",
     "shell.execute_reply": "2024-06-13T18:29:27.963429Z"
    },
    "papermill": {
     "duration": 0.021046,
     "end_time": "2024-06-13T18:29:27.966560",
     "exception": false,
     "start_time": "2024-06-13T18:29:27.945514",
     "status": "completed"
    },
    "tags": []
   },
   "outputs": [],
   "source": [
    "# Imputing the 'Established Date' value for the missing 'Acquired Date' values.\n",
    "data['Acquired Date'] = data['Acquired Date'].fillna('NA')"
   ]
  },
  {
   "cell_type": "code",
   "execution_count": 7,
   "id": "3cb79d26",
   "metadata": {
    "execution": {
     "iopub.execute_input": "2024-06-13T18:29:27.989541Z",
     "iopub.status.busy": "2024-06-13T18:29:27.988780Z",
     "iopub.status.idle": "2024-06-13T18:29:27.999538Z",
     "shell.execute_reply": "2024-06-13T18:29:27.998440Z"
    },
    "papermill": {
     "duration": 0.024914,
     "end_time": "2024-06-13T18:29:28.001960",
     "exception": false,
     "start_time": "2024-06-13T18:29:27.977046",
     "status": "completed"
    },
    "tags": []
   },
   "outputs": [
    {
     "data": {
      "text/plain": [
       "Institution Name      0\n",
       "Main Office           0\n",
       "Branch Name           0\n",
       "Branch Number         0\n",
       "Established Date      0\n",
       "Acquired Date         0\n",
       "Street Address        0\n",
       "City                  0\n",
       "County                0\n",
       "State                 0\n",
       "Zipcode               0\n",
       "Latitude             66\n",
       "Longitude            66\n",
       "2010 Deposits       740\n",
       "2011 Deposits       578\n",
       "2012 Deposits       329\n",
       "2013 Deposits       175\n",
       "2014 Deposits        56\n",
       "2015 Deposits        19\n",
       "2016 Deposits         0\n",
       "dtype: int64"
      ]
     },
     "execution_count": 7,
     "metadata": {},
     "output_type": "execute_result"
    }
   ],
   "source": [
    "# Checking Imputation\n",
    "data.isnull().sum()"
   ]
  },
  {
   "cell_type": "markdown",
   "id": "e22cf386",
   "metadata": {
    "papermill": {
     "duration": 0.010537,
     "end_time": "2024-06-13T18:29:28.023183",
     "exception": false,
     "start_time": "2024-06-13T18:29:28.012646",
     "status": "completed"
    },
    "tags": []
   },
   "source": [
    "'Acquired Date' missing value issue resolved :)"
   ]
  },
  {
   "cell_type": "markdown",
   "id": "a66641e6",
   "metadata": {
    "papermill": {
     "duration": 0.010275,
     "end_time": "2024-06-13T18:29:28.044163",
     "exception": false,
     "start_time": "2024-06-13T18:29:28.033888",
     "status": "completed"
    },
    "tags": []
   },
   "source": [
    "There are 66 missing values in the 'Latitude' and 'Longitude' columns; i assume the following possibilities for the issue:\n",
    "1. New or unlocated branches\n",
    "2. Data entry errors\n",
    "3. Limitations in geolocation data sources\n",
    "\n",
    "And to resolve it, i proceed to replace the missing values with 'N/A' (meaning 'Not Available')\n"
   ]
  },
  {
   "cell_type": "code",
   "execution_count": 8,
   "id": "1017e682",
   "metadata": {
    "execution": {
     "iopub.execute_input": "2024-06-13T18:29:28.067173Z",
     "iopub.status.busy": "2024-06-13T18:29:28.066821Z",
     "iopub.status.idle": "2024-06-13T18:29:28.075475Z",
     "shell.execute_reply": "2024-06-13T18:29:28.074153Z"
    },
    "papermill": {
     "duration": 0.023189,
     "end_time": "2024-06-13T18:29:28.077955",
     "exception": false,
     "start_time": "2024-06-13T18:29:28.054766",
     "status": "completed"
    },
    "tags": []
   },
   "outputs": [],
   "source": [
    "# Imputing 'NA' for the missing 'Latitude and Longitude' values.\n",
    "data['Latitude'] = data['Latitude'].fillna(\"NA\")\n",
    "data['Longitude'] = data['Longitude'].fillna(\"NA\")"
   ]
  },
  {
   "cell_type": "code",
   "execution_count": 9,
   "id": "b660202d",
   "metadata": {
    "execution": {
     "iopub.execute_input": "2024-06-13T18:29:28.100814Z",
     "iopub.status.busy": "2024-06-13T18:29:28.100445Z",
     "iopub.status.idle": "2024-06-13T18:29:28.112482Z",
     "shell.execute_reply": "2024-06-13T18:29:28.111263Z"
    },
    "papermill": {
     "duration": 0.026234,
     "end_time": "2024-06-13T18:29:28.114883",
     "exception": false,
     "start_time": "2024-06-13T18:29:28.088649",
     "status": "completed"
    },
    "tags": []
   },
   "outputs": [
    {
     "data": {
      "text/plain": [
       "Institution Name      0\n",
       "Main Office           0\n",
       "Branch Name           0\n",
       "Branch Number         0\n",
       "Established Date      0\n",
       "Acquired Date         0\n",
       "Street Address        0\n",
       "City                  0\n",
       "County                0\n",
       "State                 0\n",
       "Zipcode               0\n",
       "Latitude              0\n",
       "Longitude             0\n",
       "2010 Deposits       740\n",
       "2011 Deposits       578\n",
       "2012 Deposits       329\n",
       "2013 Deposits       175\n",
       "2014 Deposits        56\n",
       "2015 Deposits        19\n",
       "2016 Deposits         0\n",
       "dtype: int64"
      ]
     },
     "execution_count": 9,
     "metadata": {},
     "output_type": "execute_result"
    }
   ],
   "source": [
    "# Re-Checking Imputation\n",
    "data.isnull().sum()"
   ]
  },
  {
   "cell_type": "markdown",
   "id": "64e8c1ef",
   "metadata": {
    "papermill": {
     "duration": 0.010472,
     "end_time": "2024-06-13T18:29:28.136441",
     "exception": false,
     "start_time": "2024-06-13T18:29:28.125969",
     "status": "completed"
    },
    "tags": []
   },
   "source": [
    "There are 1,897 missing values across six columns ranging for deposits for year 2010 to 2015.\n",
    "\n",
    "I assume the following as to why there are missing values in these columns:\n",
    "\n",
    "i. Data collection issues\n",
    "\n",
    "ii. Changes in data sources\n",
    "\n",
    "iii. Mergers and acquisitions:\n",
    "\n",
    "iv. Data entry errors\n",
    "\t\n",
    "For this issue, I proceed to fill the missing values with the median value [since it is a play \tproject].\n"
   ]
  },
  {
   "cell_type": "code",
   "execution_count": 10,
   "id": "f5bf797c",
   "metadata": {
    "execution": {
     "iopub.execute_input": "2024-06-13T18:29:28.159497Z",
     "iopub.status.busy": "2024-06-13T18:29:28.159109Z",
     "iopub.status.idle": "2024-06-13T18:29:28.172589Z",
     "shell.execute_reply": "2024-06-13T18:29:28.171446Z"
    },
    "papermill": {
     "duration": 0.028511,
     "end_time": "2024-06-13T18:29:28.175541",
     "exception": false,
     "start_time": "2024-06-13T18:29:28.147030",
     "status": "completed"
    },
    "tags": []
   },
   "outputs": [],
   "source": [
    "# Select the Deposits columns\n",
    "deposits_cols = [col for col in data.columns if 'Deposits' in col]\n",
    "\n",
    "# Impute missing values for all Deposits columns\n",
    "for col in deposits_cols:\n",
    "    median_value = data[col].median()\n",
    "    data[col] = data[col].fillna(median_value)"
   ]
  },
  {
   "cell_type": "code",
   "execution_count": 11,
   "id": "75fb754f",
   "metadata": {
    "execution": {
     "iopub.execute_input": "2024-06-13T18:29:28.199108Z",
     "iopub.status.busy": "2024-06-13T18:29:28.198749Z",
     "iopub.status.idle": "2024-06-13T18:29:28.210603Z",
     "shell.execute_reply": "2024-06-13T18:29:28.209589Z"
    },
    "papermill": {
     "duration": 0.026222,
     "end_time": "2024-06-13T18:29:28.212929",
     "exception": false,
     "start_time": "2024-06-13T18:29:28.186707",
     "status": "completed"
    },
    "tags": []
   },
   "outputs": [
    {
     "data": {
      "text/plain": [
       "Institution Name    0\n",
       "Main Office         0\n",
       "Branch Name         0\n",
       "Branch Number       0\n",
       "Established Date    0\n",
       "Acquired Date       0\n",
       "Street Address      0\n",
       "City                0\n",
       "County              0\n",
       "State               0\n",
       "Zipcode             0\n",
       "Latitude            0\n",
       "Longitude           0\n",
       "2010 Deposits       0\n",
       "2011 Deposits       0\n",
       "2012 Deposits       0\n",
       "2013 Deposits       0\n",
       "2014 Deposits       0\n",
       "2015 Deposits       0\n",
       "2016 Deposits       0\n",
       "dtype: int64"
      ]
     },
     "execution_count": 11,
     "metadata": {},
     "output_type": "execute_result"
    }
   ],
   "source": [
    "# Re-checking Imputation\n",
    "data.isnull().sum()"
   ]
  },
  {
   "cell_type": "markdown",
   "id": "26645888",
   "metadata": {
    "papermill": {
     "duration": 0.010563,
     "end_time": "2024-06-13T18:29:28.234395",
     "exception": false,
     "start_time": "2024-06-13T18:29:28.223832",
     "status": "completed"
    },
    "tags": []
   },
   "source": [
    "All issues resolved :)"
   ]
  },
  {
   "cell_type": "markdown",
   "id": "cd6bf47d",
   "metadata": {
    "papermill": {
     "duration": 0.011912,
     "end_time": "2024-06-13T18:29:28.257240",
     "exception": false,
     "start_time": "2024-06-13T18:29:28.245328",
     "status": "completed"
    },
    "tags": []
   },
   "source": [
    "# *Data type verification and normalization*\n",
    "\n",
    "To ensure the quality and consistency of the data and verify that it is in the correct format and meets the expected standards, I perform the following:"
   ]
  },
  {
   "cell_type": "markdown",
   "id": "dea89804",
   "metadata": {
    "papermill": {
     "duration": 0.011983,
     "end_time": "2024-06-13T18:29:28.280004",
     "exception": false,
     "start_time": "2024-06-13T18:29:28.268021",
     "status": "completed"
    },
    "tags": []
   },
   "source": [
    "**# DATA PROFILING**"
   ]
  },
  {
   "cell_type": "code",
   "execution_count": 12,
   "id": "b8e5fcf2",
   "metadata": {
    "execution": {
     "iopub.execute_input": "2024-06-13T18:29:28.303366Z",
     "iopub.status.busy": "2024-06-13T18:29:28.302964Z",
     "iopub.status.idle": "2024-06-13T18:29:28.310092Z",
     "shell.execute_reply": "2024-06-13T18:29:28.308739Z"
    },
    "papermill": {
     "duration": 0.021984,
     "end_time": "2024-06-13T18:29:28.312828",
     "exception": false,
     "start_time": "2024-06-13T18:29:28.290844",
     "status": "completed"
    },
    "tags": []
   },
   "outputs": [
    {
     "name": "stdout",
     "output_type": "stream",
     "text": [
      "Institution Name     object\n",
      "Main Office           int64\n",
      "Branch Name          object\n",
      "Branch Number         int64\n",
      "Established Date     object\n",
      "Acquired Date        object\n",
      "Street Address       object\n",
      "City                 object\n",
      "County               object\n",
      "State                object\n",
      "Zipcode               int64\n",
      "Latitude             object\n",
      "Longitude            object\n",
      "2010 Deposits       float64\n",
      "2011 Deposits       float64\n",
      "2012 Deposits       float64\n",
      "2013 Deposits       float64\n",
      "2014 Deposits       float64\n",
      "2015 Deposits       float64\n",
      "2016 Deposits         int64\n",
      "dtype: object\n"
     ]
    }
   ],
   "source": [
    "# Data Types\n",
    "print(data.dtypes)"
   ]
  },
  {
   "cell_type": "code",
   "execution_count": 13,
   "id": "b45e8590",
   "metadata": {
    "execution": {
     "iopub.execute_input": "2024-06-13T18:29:28.337204Z",
     "iopub.status.busy": "2024-06-13T18:29:28.336266Z",
     "iopub.status.idle": "2024-06-13T18:29:28.348616Z",
     "shell.execute_reply": "2024-06-13T18:29:28.347464Z"
    },
    "papermill": {
     "duration": 0.027277,
     "end_time": "2024-06-13T18:29:28.351190",
     "exception": false,
     "start_time": "2024-06-13T18:29:28.323913",
     "status": "completed"
    },
    "tags": []
   },
   "outputs": [],
   "source": [
    "# Converting all Deposits columns to int64\n",
    "# Select the Deposits columns\n",
    "deposits_cols = [col for col in data.columns if 'Deposits' in col]\n",
    "\n",
    "# Convert all Deposits columns to int64\n",
    "data[deposits_cols] = data[deposits_cols].astype(int)"
   ]
  },
  {
   "cell_type": "code",
   "execution_count": 14,
   "id": "c4f4e50e",
   "metadata": {
    "execution": {
     "iopub.execute_input": "2024-06-13T18:29:28.377359Z",
     "iopub.status.busy": "2024-06-13T18:29:28.376452Z",
     "iopub.status.idle": "2024-06-13T18:29:28.383430Z",
     "shell.execute_reply": "2024-06-13T18:29:28.382395Z"
    },
    "papermill": {
     "duration": 0.022233,
     "end_time": "2024-06-13T18:29:28.385793",
     "exception": false,
     "start_time": "2024-06-13T18:29:28.363560",
     "status": "completed"
    },
    "tags": []
   },
   "outputs": [
    {
     "name": "stdout",
     "output_type": "stream",
     "text": [
      "Institution Name    object\n",
      "Main Office          int64\n",
      "Branch Name         object\n",
      "Branch Number        int64\n",
      "Established Date    object\n",
      "Acquired Date       object\n",
      "Street Address      object\n",
      "City                object\n",
      "County              object\n",
      "State               object\n",
      "Zipcode              int64\n",
      "Latitude            object\n",
      "Longitude           object\n",
      "2010 Deposits        int64\n",
      "2011 Deposits        int64\n",
      "2012 Deposits        int64\n",
      "2013 Deposits        int64\n",
      "2014 Deposits        int64\n",
      "2015 Deposits        int64\n",
      "2016 Deposits        int64\n",
      "dtype: object\n"
     ]
    }
   ],
   "source": [
    "# Re-checking Data Types\n",
    "print(data.dtypes)"
   ]
  },
  {
   "cell_type": "code",
   "execution_count": 15,
   "id": "b2d32163",
   "metadata": {
    "execution": {
     "iopub.execute_input": "2024-06-13T18:29:28.465201Z",
     "iopub.status.busy": "2024-06-13T18:29:28.464849Z",
     "iopub.status.idle": "2024-06-13T18:29:28.476408Z",
     "shell.execute_reply": "2024-06-13T18:29:28.474862Z"
    },
    "papermill": {
     "duration": 0.026492,
     "end_time": "2024-06-13T18:29:28.479114",
     "exception": false,
     "start_time": "2024-06-13T18:29:28.452622",
     "status": "completed"
    },
    "tags": []
   },
   "outputs": [
    {
     "name": "stdout",
     "output_type": "stream",
     "text": [
      "Main Office         0\n",
      "Branch Number       0\n",
      "Zipcode          2110\n",
      "2010 Deposits       0\n",
      "2011 Deposits       0\n",
      "2012 Deposits       0\n",
      "2013 Deposits       0\n",
      "2014 Deposits       0\n",
      "2015 Deposits       0\n",
      "2016 Deposits       0\n",
      "dtype: int64\n",
      "Main Office               1\n",
      "Branch Number          7989\n",
      "Zipcode               99362\n",
      "2010 Deposits     633131000\n",
      "2011 Deposits     743268000\n",
      "2012 Deposits     832455000\n",
      "2013 Deposits     916543000\n",
      "2014 Deposits    1032549000\n",
      "2015 Deposits    1069425000\n",
      "2016 Deposits    1155185000\n",
      "dtype: int64\n"
     ]
    }
   ],
   "source": [
    "# Data Range (only for numerical columns)\n",
    "numerical_cols = data.select_dtypes(include=[np.number])\n",
    "print(numerical_cols.min())\n",
    "print(numerical_cols.max())"
   ]
  },
  {
   "cell_type": "code",
   "execution_count": 16,
   "id": "3826341f",
   "metadata": {
    "execution": {
     "iopub.execute_input": "2024-06-13T18:29:28.504043Z",
     "iopub.status.busy": "2024-06-13T18:29:28.503684Z",
     "iopub.status.idle": "2024-06-13T18:29:28.524464Z",
     "shell.execute_reply": "2024-06-13T18:29:28.523286Z"
    },
    "papermill": {
     "duration": 0.036133,
     "end_time": "2024-06-13T18:29:28.526841",
     "exception": false,
     "start_time": "2024-06-13T18:29:28.490708",
     "status": "completed"
    },
    "tags": []
   },
   "outputs": [
    {
     "name": "stdout",
     "output_type": "stream",
     "text": [
      "0\n"
     ]
    }
   ],
   "source": [
    "# Data Uniqueness\n",
    "print(data.duplicated().sum())"
   ]
  },
  {
   "cell_type": "markdown",
   "id": "617d4b29",
   "metadata": {
    "papermill": {
     "duration": 0.010898,
     "end_time": "2024-06-13T18:29:28.549187",
     "exception": false,
     "start_time": "2024-06-13T18:29:28.538289",
     "status": "completed"
    },
    "tags": []
   },
   "source": [
    "No value is duplicated :)\n",
    "\n",
    "Good to move on"
   ]
  },
  {
   "cell_type": "markdown",
   "id": "ca2af504",
   "metadata": {
    "papermill": {
     "duration": 0.010883,
     "end_time": "2024-06-13T18:29:28.571371",
     "exception": false,
     "start_time": "2024-06-13T18:29:28.560488",
     "status": "completed"
    },
    "tags": []
   },
   "source": [
    "# *Date format standardization*"
   ]
  },
  {
   "cell_type": "code",
   "execution_count": 17,
   "id": "4261b47c",
   "metadata": {
    "execution": {
     "iopub.execute_input": "2024-06-13T18:29:28.595833Z",
     "iopub.status.busy": "2024-06-13T18:29:28.595045Z",
     "iopub.status.idle": "2024-06-13T18:29:28.626217Z",
     "shell.execute_reply": "2024-06-13T18:29:28.624867Z"
    },
    "papermill": {
     "duration": 0.045904,
     "end_time": "2024-06-13T18:29:28.628584",
     "exception": false,
     "start_time": "2024-06-13T18:29:28.582680",
     "status": "completed"
    },
    "tags": []
   },
   "outputs": [
    {
     "name": "stderr",
     "output_type": "stream",
     "text": [
      "/tmp/ipykernel_18/64400632.py:6: UserWarning: Could not infer format, so each element will be parsed individually, falling back to `dateutil`. To ensure parsing is consistent and as-expected, please specify a format.\n",
      "  data[col] = pd.to_datetime(data[col], errors='coerce')\n"
     ]
    }
   ],
   "source": [
    "# Select date columns\n",
    "date_cols = [col for col in data.columns if 'Date' in col]\n",
    "\n",
    "# Standardize date formats\n",
    "for col in date_cols:\n",
    "    data[col] = pd.to_datetime(data[col], errors='coerce')"
   ]
  },
  {
   "cell_type": "code",
   "execution_count": 18,
   "id": "a90607a6",
   "metadata": {
    "execution": {
     "iopub.execute_input": "2024-06-13T18:29:28.653820Z",
     "iopub.status.busy": "2024-06-13T18:29:28.653299Z",
     "iopub.status.idle": "2024-06-13T18:29:28.660472Z",
     "shell.execute_reply": "2024-06-13T18:29:28.659162Z"
    },
    "papermill": {
     "duration": 0.023294,
     "end_time": "2024-06-13T18:29:28.663497",
     "exception": false,
     "start_time": "2024-06-13T18:29:28.640203",
     "status": "completed"
    },
    "tags": []
   },
   "outputs": [
    {
     "name": "stdout",
     "output_type": "stream",
     "text": [
      "Institution Name            object\n",
      "Main Office                  int64\n",
      "Branch Name                 object\n",
      "Branch Number                int64\n",
      "Established Date    datetime64[ns]\n",
      "Acquired Date       datetime64[ns]\n",
      "Street Address              object\n",
      "City                        object\n",
      "County                      object\n",
      "State                       object\n",
      "Zipcode                      int64\n",
      "Latitude                    object\n",
      "Longitude                   object\n",
      "2010 Deposits                int64\n",
      "2011 Deposits                int64\n",
      "2012 Deposits                int64\n",
      "2013 Deposits                int64\n",
      "2014 Deposits                int64\n",
      "2015 Deposits                int64\n",
      "2016 Deposits                int64\n",
      "dtype: object\n"
     ]
    }
   ],
   "source": [
    "# Confirming standardization\n",
    "print(data.dtypes)"
   ]
  },
  {
   "cell_type": "markdown",
   "id": "fb16b212",
   "metadata": {
    "papermill": {
     "duration": 0.011175,
     "end_time": "2024-06-13T18:29:28.686843",
     "exception": false,
     "start_time": "2024-06-13T18:29:28.675668",
     "status": "completed"
    },
    "tags": []
   },
   "source": [
    "Standardization confirmed!\n",
    "\n",
    "Good to go"
   ]
  },
  {
   "cell_type": "markdown",
   "id": "32f48012",
   "metadata": {
    "papermill": {
     "duration": 0.01116,
     "end_time": "2024-06-13T18:29:28.709801",
     "exception": false,
     "start_time": "2024-06-13T18:29:28.698641",
     "status": "completed"
    },
    "tags": []
   },
   "source": [
    "# *Exploratory Data Analysis*"
   ]
  },
  {
   "cell_type": "code",
   "execution_count": 19,
   "id": "dad06fe4",
   "metadata": {
    "execution": {
     "iopub.execute_input": "2024-06-13T18:29:28.734800Z",
     "iopub.status.busy": "2024-06-13T18:29:28.734432Z",
     "iopub.status.idle": "2024-06-13T18:29:28.780001Z",
     "shell.execute_reply": "2024-06-13T18:29:28.778803Z"
    },
    "papermill": {
     "duration": 0.061214,
     "end_time": "2024-06-13T18:29:28.782433",
     "exception": false,
     "start_time": "2024-06-13T18:29:28.721219",
     "status": "completed"
    },
    "tags": []
   },
   "outputs": [
    {
     "data": {
      "text/html": [
       "<div>\n",
       "<style scoped>\n",
       "    .dataframe tbody tr th:only-of-type {\n",
       "        vertical-align: middle;\n",
       "    }\n",
       "\n",
       "    .dataframe tbody tr th {\n",
       "        vertical-align: top;\n",
       "    }\n",
       "\n",
       "    .dataframe thead th {\n",
       "        text-align: right;\n",
       "    }\n",
       "</style>\n",
       "<table border=\"1\" class=\"dataframe\">\n",
       "  <thead>\n",
       "    <tr style=\"text-align: right;\">\n",
       "      <th></th>\n",
       "      <th>Main Office</th>\n",
       "      <th>Branch Number</th>\n",
       "      <th>Established Date</th>\n",
       "      <th>Acquired Date</th>\n",
       "      <th>Zipcode</th>\n",
       "      <th>2010 Deposits</th>\n",
       "      <th>2011 Deposits</th>\n",
       "      <th>2012 Deposits</th>\n",
       "      <th>2013 Deposits</th>\n",
       "      <th>2014 Deposits</th>\n",
       "      <th>2015 Deposits</th>\n",
       "      <th>2016 Deposits</th>\n",
       "    </tr>\n",
       "  </thead>\n",
       "  <tbody>\n",
       "    <tr>\n",
       "      <th>count</th>\n",
       "      <td>5413.000000</td>\n",
       "      <td>5413.000000</td>\n",
       "      <td>5413</td>\n",
       "      <td>3798</td>\n",
       "      <td>5413.000000</td>\n",
       "      <td>5.413000e+03</td>\n",
       "      <td>5.413000e+03</td>\n",
       "      <td>5.413000e+03</td>\n",
       "      <td>5.413000e+03</td>\n",
       "      <td>5.413000e+03</td>\n",
       "      <td>5.413000e+03</td>\n",
       "      <td>5.413000e+03</td>\n",
       "    </tr>\n",
       "    <tr>\n",
       "      <th>mean</th>\n",
       "      <td>0.000185</td>\n",
       "      <td>4303.761685</td>\n",
       "      <td>1978-05-08 15:12:12.237206752</td>\n",
       "      <td>2005-07-09 10:52:30.710900352</td>\n",
       "      <td>58800.016072</td>\n",
       "      <td>2.362713e+05</td>\n",
       "      <td>2.760633e+05</td>\n",
       "      <td>3.066684e+05</td>\n",
       "      <td>3.366706e+05</td>\n",
       "      <td>3.785973e+05</td>\n",
       "      <td>3.923467e+05</td>\n",
       "      <td>4.268188e+05</td>\n",
       "    </tr>\n",
       "    <tr>\n",
       "      <th>min</th>\n",
       "      <td>0.000000</td>\n",
       "      <td>0.000000</td>\n",
       "      <td>1800-01-01 00:00:00</td>\n",
       "      <td>1975-01-18 00:00:00</td>\n",
       "      <td>2110.000000</td>\n",
       "      <td>0.000000e+00</td>\n",
       "      <td>0.000000e+00</td>\n",
       "      <td>0.000000e+00</td>\n",
       "      <td>0.000000e+00</td>\n",
       "      <td>0.000000e+00</td>\n",
       "      <td>0.000000e+00</td>\n",
       "      <td>0.000000e+00</td>\n",
       "    </tr>\n",
       "    <tr>\n",
       "      <th>25%</th>\n",
       "      <td>0.000000</td>\n",
       "      <td>2548.000000</td>\n",
       "      <td>1962-03-23 00:00:00</td>\n",
       "      <td>2004-11-13 00:00:00</td>\n",
       "      <td>33334.000000</td>\n",
       "      <td>2.545300e+04</td>\n",
       "      <td>2.566800e+04</td>\n",
       "      <td>2.607700e+04</td>\n",
       "      <td>2.746500e+04</td>\n",
       "      <td>2.963500e+04</td>\n",
       "      <td>3.396000e+04</td>\n",
       "      <td>3.951300e+04</td>\n",
       "    </tr>\n",
       "    <tr>\n",
       "      <th>50%</th>\n",
       "      <td>0.000000</td>\n",
       "      <td>4274.000000</td>\n",
       "      <td>1989-04-30 00:00:00</td>\n",
       "      <td>2004-11-13 00:00:00</td>\n",
       "      <td>60654.000000</td>\n",
       "      <td>4.307200e+04</td>\n",
       "      <td>4.442600e+04</td>\n",
       "      <td>4.717300e+04</td>\n",
       "      <td>5.041500e+04</td>\n",
       "      <td>5.450300e+04</td>\n",
       "      <td>6.013300e+04</td>\n",
       "      <td>6.815700e+04</td>\n",
       "    </tr>\n",
       "    <tr>\n",
       "      <th>75%</th>\n",
       "      <td>0.000000</td>\n",
       "      <td>6172.000000</td>\n",
       "      <td>2006-10-26 00:00:00</td>\n",
       "      <td>2008-09-25 00:00:00</td>\n",
       "      <td>89102.000000</td>\n",
       "      <td>7.429800e+04</td>\n",
       "      <td>7.872000e+04</td>\n",
       "      <td>8.559000e+04</td>\n",
       "      <td>9.307600e+04</td>\n",
       "      <td>1.014350e+05</td>\n",
       "      <td>1.114780e+05</td>\n",
       "      <td>1.243180e+05</td>\n",
       "    </tr>\n",
       "    <tr>\n",
       "      <th>max</th>\n",
       "      <td>1.000000</td>\n",
       "      <td>7989.000000</td>\n",
       "      <td>2016-05-24 00:00:00</td>\n",
       "      <td>2011-10-14 00:00:00</td>\n",
       "      <td>99362.000000</td>\n",
       "      <td>6.331310e+08</td>\n",
       "      <td>7.432680e+08</td>\n",
       "      <td>8.324550e+08</td>\n",
       "      <td>9.165430e+08</td>\n",
       "      <td>1.032549e+09</td>\n",
       "      <td>1.069425e+09</td>\n",
       "      <td>1.155185e+09</td>\n",
       "    </tr>\n",
       "    <tr>\n",
       "      <th>std</th>\n",
       "      <td>0.013592</td>\n",
       "      <td>2146.930304</td>\n",
       "      <td>NaN</td>\n",
       "      <td>NaN</td>\n",
       "      <td>30863.015686</td>\n",
       "      <td>8.890869e+06</td>\n",
       "      <td>1.049867e+07</td>\n",
       "      <td>1.173961e+07</td>\n",
       "      <td>1.290939e+07</td>\n",
       "      <td>1.453742e+07</td>\n",
       "      <td>1.504738e+07</td>\n",
       "      <td>1.632941e+07</td>\n",
       "    </tr>\n",
       "  </tbody>\n",
       "</table>\n",
       "</div>"
      ],
      "text/plain": [
       "       Main Office  Branch Number               Established Date  \\\n",
       "count  5413.000000    5413.000000                           5413   \n",
       "mean      0.000185    4303.761685  1978-05-08 15:12:12.237206752   \n",
       "min       0.000000       0.000000            1800-01-01 00:00:00   \n",
       "25%       0.000000    2548.000000            1962-03-23 00:00:00   \n",
       "50%       0.000000    4274.000000            1989-04-30 00:00:00   \n",
       "75%       0.000000    6172.000000            2006-10-26 00:00:00   \n",
       "max       1.000000    7989.000000            2016-05-24 00:00:00   \n",
       "std       0.013592    2146.930304                            NaN   \n",
       "\n",
       "                       Acquired Date       Zipcode  2010 Deposits  \\\n",
       "count                           3798   5413.000000   5.413000e+03   \n",
       "mean   2005-07-09 10:52:30.710900352  58800.016072   2.362713e+05   \n",
       "min              1975-01-18 00:00:00   2110.000000   0.000000e+00   \n",
       "25%              2004-11-13 00:00:00  33334.000000   2.545300e+04   \n",
       "50%              2004-11-13 00:00:00  60654.000000   4.307200e+04   \n",
       "75%              2008-09-25 00:00:00  89102.000000   7.429800e+04   \n",
       "max              2011-10-14 00:00:00  99362.000000   6.331310e+08   \n",
       "std                              NaN  30863.015686   8.890869e+06   \n",
       "\n",
       "       2011 Deposits  2012 Deposits  2013 Deposits  2014 Deposits  \\\n",
       "count   5.413000e+03   5.413000e+03   5.413000e+03   5.413000e+03   \n",
       "mean    2.760633e+05   3.066684e+05   3.366706e+05   3.785973e+05   \n",
       "min     0.000000e+00   0.000000e+00   0.000000e+00   0.000000e+00   \n",
       "25%     2.566800e+04   2.607700e+04   2.746500e+04   2.963500e+04   \n",
       "50%     4.442600e+04   4.717300e+04   5.041500e+04   5.450300e+04   \n",
       "75%     7.872000e+04   8.559000e+04   9.307600e+04   1.014350e+05   \n",
       "max     7.432680e+08   8.324550e+08   9.165430e+08   1.032549e+09   \n",
       "std     1.049867e+07   1.173961e+07   1.290939e+07   1.453742e+07   \n",
       "\n",
       "       2015 Deposits  2016 Deposits  \n",
       "count   5.413000e+03   5.413000e+03  \n",
       "mean    3.923467e+05   4.268188e+05  \n",
       "min     0.000000e+00   0.000000e+00  \n",
       "25%     3.396000e+04   3.951300e+04  \n",
       "50%     6.013300e+04   6.815700e+04  \n",
       "75%     1.114780e+05   1.243180e+05  \n",
       "max     1.069425e+09   1.155185e+09  \n",
       "std     1.504738e+07   1.632941e+07  "
      ]
     },
     "execution_count": 19,
     "metadata": {},
     "output_type": "execute_result"
    }
   ],
   "source": [
    "# Getting Summary Statistics\n",
    "data.describe()"
   ]
  },
  {
   "cell_type": "code",
   "execution_count": 20,
   "id": "ec9bee95",
   "metadata": {
    "execution": {
     "iopub.execute_input": "2024-06-13T18:29:28.807952Z",
     "iopub.status.busy": "2024-06-13T18:29:28.807589Z",
     "iopub.status.idle": "2024-06-13T18:29:29.166206Z",
     "shell.execute_reply": "2024-06-13T18:29:29.165025Z"
    },
    "papermill": {
     "duration": 0.374436,
     "end_time": "2024-06-13T18:29:29.169113",
     "exception": false,
     "start_time": "2024-06-13T18:29:28.794677",
     "status": "completed"
    },
    "tags": []
   },
   "outputs": [
    {
     "data": {
      "image/png": "[encoded data removed]",
      "text/plain": [
       "<Figure size 640x480 with 1 Axes>"
      ]
     },
     "metadata": {},
     "output_type": "display_data"
    }
   ],
   "source": [
    "# Analyzing overall performance of branches in terms of deposits\n",
    "import matplotlib.pyplot as plt\n",
    "\n",
    "total_deposits = data[['2010 Deposits', '2011 Deposits', '2012 Deposits', '2013 Deposits', '2014 Deposits', '2015 Deposits', '2016 Deposits']].sum()\n",
    "\n",
    "plt.plot(total_deposits)\n",
    "plt.title('Total Deposits Over Time')\n",
    "plt.xlabel('Year',  fontsize=12)\n",
    "plt.ylabel('Total Deposits ($ billions)', fontsize=14)\n",
    "plt.xticks(range(7), ['2010', '2011', '2012', '2013', '2014', '2015', '2016'], fontsize=12)\n",
    "plt.show()"
   ]
  },
  {
   "cell_type": "code",
   "execution_count": 21,
   "id": "8271abcb",
   "metadata": {
    "execution": {
     "iopub.execute_input": "2024-06-13T18:29:29.202511Z",
     "iopub.status.busy": "2024-06-13T18:29:29.202112Z",
     "iopub.status.idle": "2024-06-13T18:29:29.418814Z",
     "shell.execute_reply": "2024-06-13T18:29:29.417735Z"
    },
    "papermill": {
     "duration": 0.23429,
     "end_time": "2024-06-13T18:29:29.422277",
     "exception": false,
     "start_time": "2024-06-13T18:29:29.187987",
     "status": "completed"
    },
    "tags": []
   },
   "outputs": [
    {
     "data": {
      "image/png": "[encoded data removed]",
      "text/plain": [
       "<IPython.core.display.Image object>"
      ]
     },
     "execution_count": 21,
     "metadata": {},
     "output_type": "execute_result"
    },
    {
     "data": {
      "text/plain": [
       "<Figure size 640x480 with 0 Axes>"
      ]
     },
     "metadata": {},
     "output_type": "display_data"
    }
   ],
   "source": [
    "# Saving the plot as output\n",
    "from IPython.display import Image\n",
    "plt.savefig('total_deposits_over_time.png', dpi=300, bbox_inches='tight')\n",
    "Image(filename='total_deposits_over_time.png')"
   ]
  },
  {
   "cell_type": "markdown",
   "id": "fb99d64d",
   "metadata": {
    "papermill": {
     "duration": 0.013332,
     "end_time": "2024-06-13T18:29:29.456092",
     "exception": false,
     "start_time": "2024-06-13T18:29:29.442760",
     "status": "completed"
    },
    "tags": []
   },
   "source": [
    "**Annual Top-10 Branches (By Deposit)**"
   ]
  },
  {
   "cell_type": "code",
   "execution_count": 22,
   "id": "1c826372",
   "metadata": {
    "execution": {
     "iopub.execute_input": "2024-06-13T18:29:29.483152Z",
     "iopub.status.busy": "2024-06-13T18:29:29.482794Z",
     "iopub.status.idle": "2024-06-13T18:29:29.530686Z",
     "shell.execute_reply": "2024-06-13T18:29:29.529430Z"
    },
    "papermill": {
     "duration": 0.06409,
     "end_time": "2024-06-13T18:29:29.533120",
     "exception": false,
     "start_time": "2024-06-13T18:29:29.469030",
     "status": "completed"
    },
    "tags": []
   },
   "outputs": [
    {
     "name": "stdout",
     "output_type": "stream",
     "text": [
      "                            Branch Name  2010 Deposits\n",
      "0       JPMorgan Chase Bank Main Office      633131000\n",
      "2224         Madison and 48th St Branch      153577328\n",
      "154      Madison Ave Abd 48th St Branch       45099076\n",
      "395                 Houston Main Office       26356388\n",
      "819        Chicago's Main Office Branch       22101086\n",
      "2738  Dallas Main Banking Center Branch       15209318\n",
      "1401                Detroit Main Branch        6953356\n",
      "2138           Broad St Downtown Branch        4916291\n",
      "938             Baton Rouge Main Branch        4301756\n",
      "1234                 Chase Tower Branch        4246556\n",
      "                                           Branch Name  2011 Deposits\n",
      "0                      JPMorgan Chase Bank Main Office      743268000\n",
      "2224                        Madison and 48th St Branch      194388000\n",
      "154                     Madison Ave Abd 48th St Branch       62630984\n",
      "395                                Houston Main Office       36991358\n",
      "819                       Chicago's Main Office Branch       27521204\n",
      "2738                 Dallas Main Banking Center Branch       17537788\n",
      "1401                               Detroit Main Branch       10480927\n",
      "2138                          Broad St Downtown Branch        5986462\n",
      "4639  Fifth Avenue & 44th Street Banking Center Branch        4792944\n",
      "1385                                   One Utah Branch        4549988\n",
      "                                           Branch Name  2012 Deposits\n",
      "0                      JPMorgan Chase Bank Main Office      832455000\n",
      "2224                        Madison and 48th St Branch      207367988\n",
      "154                     Madison Ave Abd 48th St Branch       81960379\n",
      "395                                Houston Main Office       38794794\n",
      "819                       Chicago's Main Office Branch       36219931\n",
      "2738                 Dallas Main Banking Center Branch       21265872\n",
      "1401                               Detroit Main Branch       12544817\n",
      "4639  Fifth Avenue & 44th Street Banking Center Branch        6278005\n",
      "2138                          Broad St Downtown Branch        6114913\n",
      "938                            Baton Rouge Main Branch        5014857\n",
      "                                           Branch Name  2013 Deposits\n",
      "0                      JPMorgan Chase Bank Main Office      916543000\n",
      "2224                        Madison and 48th St Branch      223395353\n",
      "154                     Madison Ave Abd 48th St Branch       85177807\n",
      "395                                Houston Main Office       52284845\n",
      "819                       Chicago's Main Office Branch       39152650\n",
      "2738                 Dallas Main Banking Center Branch       22966580\n",
      "1401                               Detroit Main Branch       14030471\n",
      "4639  Fifth Avenue & 44th Street Banking Center Branch        8334885\n",
      "2138                          Broad St Downtown Branch        6447273\n",
      "1234                                Chase Tower Branch        5582684\n",
      "                                           Branch Name  2014 Deposits\n",
      "0                      JPMorgan Chase Bank Main Office     1032549000\n",
      "2224                        Madison and 48th St Branch      241540582\n",
      "154                     Madison Ave Abd 48th St Branch       98322162\n",
      "395                                Houston Main Office       82408236\n",
      "819                       Chicago's Main Office Branch       47103774\n",
      "2738                 Dallas Main Banking Center Branch       26173793\n",
      "1401                               Detroit Main Branch       18121683\n",
      "2138                          Broad St Downtown Branch        7142562\n",
      "4639  Fifth Avenue & 44th Street Banking Center Branch        6822099\n",
      "1234                                Chase Tower Branch        5857726\n",
      "                            Branch Name  2015 Deposits\n",
      "0       JPMorgan Chase Bank Main Office     1069425000\n",
      "2224         Madison and 48th St Branch      261292750\n",
      "154      Madison Ave Abd 48th St Branch       84569038\n",
      "395                 Houston Main Office       60702170\n",
      "819        Chicago's Main Office Branch       43326953\n",
      "2738  Dallas Main Banking Center Branch       26944549\n",
      "1401                Detroit Main Branch       18855647\n",
      "1385                    One Utah Branch        9078323\n",
      "34                  Empire State Branch        7099781\n",
      "2138           Broad St Downtown Branch        6915884\n",
      "                            Branch Name  2016 Deposits\n",
      "0       JPMorgan Chase Bank Main Office     1155185000\n",
      "2224         Madison and 48th St Branch      313686851\n",
      "154      Madison Ave Abd 48th St Branch       69044786\n",
      "395                 Houston Main Office       57820585\n",
      "819        Chicago's Main Office Branch       36539028\n",
      "2738  Dallas Main Banking Center Branch       25414792\n",
      "1401                Detroit Main Branch       19499502\n",
      "34                  Empire State Branch       15580897\n",
      "1385                    One Utah Branch        9138734\n",
      "2138           Broad St Downtown Branch        8142300\n"
     ]
    }
   ],
   "source": [
    "def top_10_branches(year):\n",
    "  total_deposits = data[f'{year} Deposits']\n",
    "  ranked_branches = data.sort_values(by=f'{year} Deposits', ascending=False)[['Branch Name', f'{year} Deposits']]\n",
    "  return ranked_branches.head(10)\n",
    "\n",
    "print(top_10_branches(2010))\n",
    "print(top_10_branches(2011))\n",
    "print(top_10_branches(2012))\n",
    "print(top_10_branches(2013))\n",
    "print(top_10_branches(2014))\n",
    "print(top_10_branches(2015))\n",
    "print(top_10_branches(2016))"
   ]
  },
  {
   "cell_type": "markdown",
   "id": "c8f8c04e",
   "metadata": {
    "papermill": {
     "duration": 0.012765,
     "end_time": "2024-06-13T18:29:29.558949",
     "exception": false,
     "start_time": "2024-06-13T18:29:29.546184",
     "status": "completed"
    },
    "tags": []
   },
   "source": [
    "**Overall Top-Performing Branches**"
   ]
  },
  {
   "cell_type": "code",
   "execution_count": 23,
   "id": "4809cd89",
   "metadata": {
    "execution": {
     "iopub.execute_input": "2024-06-13T18:29:29.587091Z",
     "iopub.status.busy": "2024-06-13T18:29:29.586076Z",
     "iopub.status.idle": "2024-06-13T18:29:29.606065Z",
     "shell.execute_reply": "2024-06-13T18:29:29.604165Z"
    },
    "papermill": {
     "duration": 0.036754,
     "end_time": "2024-06-13T18:29:29.608719",
     "exception": false,
     "start_time": "2024-06-13T18:29:29.571965",
     "status": "completed"
    },
    "tags": []
   },
   "outputs": [
    {
     "name": "stdout",
     "output_type": "stream",
     "text": [
      "                                           Branch Name  Total Deposits\n",
      "0                      JPMorgan Chase Bank Main Office      6382556000\n",
      "2224                        Madison and 48th St Branch      1595248852\n",
      "154                     Madison Ave Abd 48th St Branch       526804232\n",
      "395                                Houston Main Office       355358376\n",
      "819                       Chicago's Main Office Branch       251964626\n",
      "2738                 Dallas Main Banking Center Branch       155512692\n",
      "1401                               Detroit Main Branch       100486403\n",
      "2138                          Broad St Downtown Branch        45665685\n",
      "4639  Fifth Avenue & 44th Street Banking Center Branch        39783307\n",
      "1234                                Chase Tower Branch        39524482\n"
     ]
    }
   ],
   "source": [
    "# Calculate total deposits across all years for each branch\n",
    "total_deposits_all_years = data[['2010 Deposits', '2011 Deposits', '2012 Deposits', '2013 Deposits', '2014 Deposits', '2015 Deposits', '2016 Deposits']].sum(axis=1)\n",
    "\n",
    "# Add the total deposits to the original data\n",
    "data['Total Deposits'] = total_deposits_all_years\n",
    "\n",
    "# Rank branches by total deposits across all years\n",
    "ranked_branches_overall = data.sort_values(by='Total Deposits', ascending=False)[['Branch Name', 'Total Deposits']]\n",
    "\n",
    "# Print the top 10 branches overall\n",
    "print(ranked_branches_overall.head(10))\n"
   ]
  },
  {
   "cell_type": "markdown",
   "id": "cb410b53",
   "metadata": {
    "papermill": {
     "duration": 0.013369,
     "end_time": "2024-06-13T18:29:29.635561",
     "exception": false,
     "start_time": "2024-06-13T18:29:29.622192",
     "status": "completed"
    },
    "tags": []
   },
   "source": [
    "**Overall Least Performing Branches (By Deposit)**"
   ]
  },
  {
   "cell_type": "code",
   "execution_count": 24,
   "id": "01fcb9cf",
   "metadata": {
    "execution": {
     "iopub.execute_input": "2024-06-13T18:29:29.665540Z",
     "iopub.status.busy": "2024-06-13T18:29:29.664442Z",
     "iopub.status.idle": "2024-06-13T18:29:29.680430Z",
     "shell.execute_reply": "2024-06-13T18:29:29.679331Z"
    },
    "papermill": {
     "duration": 0.033994,
     "end_time": "2024-06-13T18:29:29.683192",
     "exception": false,
     "start_time": "2024-06-13T18:29:29.649198",
     "status": "completed"
    },
    "tags": []
   },
   "outputs": [
    {
     "name": "stdout",
     "output_type": "stream",
     "text": [
      "                               Branch Name  Total Deposits\n",
      "438   Bay Area Boulevard Motor Bank Branch               0\n",
      "575    Westminister Thurber Ret Ctr Branch               0\n",
      "951           Youree South Drive-Up Branch               0\n",
      "1701        South Meridian Drive-Up Branch               0\n",
      "1109     Detached Drive-In Facility Branch               0\n",
      "...                                    ...             ...\n",
      "453         Park Central Motor Bank Branch               0\n",
      "370        Upper Montclair Drive-In Branch               0\n",
      "371    Cs First Boston Corp Cashier Branch               0\n",
      "861           Wheaton Main Drive-Up Branch               0\n",
      "466               Quarum Motor Bank Branch               0\n",
      "\n",
      "[136 rows x 2 columns]\n"
     ]
    }
   ],
   "source": [
    "# Calculating total deposits across all years for each branch\n",
    "total_deposits_all_years = data[['2010 Deposits', '2011 Deposits', '2012 Deposits', '2013 Deposits', '2014 Deposits', '2015 Deposits', '2016 Deposits']].sum(axis=1)\n",
    "\n",
    "# Adding the total deposits to the original data\n",
    "data['Total Deposits'] = total_deposits_all_years\n",
    "\n",
    "# Ranking branches by total deposits across all years\n",
    "ranked_branches_overall = data.sort_values(by='Total Deposits', ascending=True)[['Branch Name', 'Total Deposits']]\n",
    "\n",
    "# Print the top 10 branches overall\n",
    "print(ranked_branches_overall.head(136))"
   ]
  },
  {
   "cell_type": "markdown",
   "id": "d4a04647",
   "metadata": {
    "papermill": {
     "duration": 0.013145,
     "end_time": "2024-06-13T18:29:29.715973",
     "exception": false,
     "start_time": "2024-06-13T18:29:29.702828",
     "status": "completed"
    },
    "tags": []
   },
   "source": [
    "**Branch Establishment And Acquisition Trend**"
   ]
  },
  {
   "cell_type": "code",
   "execution_count": 25,
   "id": "0ac69c2c",
   "metadata": {
    "execution": {
     "iopub.execute_input": "2024-06-13T18:29:29.746682Z",
     "iopub.status.busy": "2024-06-13T18:29:29.746047Z",
     "iopub.status.idle": "2024-06-13T18:29:29.765596Z",
     "shell.execute_reply": "2024-06-13T18:29:29.764205Z"
    },
    "papermill": {
     "duration": 0.037537,
     "end_time": "2024-06-13T18:29:29.768388",
     "exception": false,
     "start_time": "2024-06-13T18:29:29.730851",
     "status": "completed"
    },
    "tags": []
   },
   "outputs": [
    {
     "data": {
      "text/html": [
       "<div>\n",
       "<style scoped>\n",
       "    .dataframe tbody tr th:only-of-type {\n",
       "        vertical-align: middle;\n",
       "    }\n",
       "\n",
       "    .dataframe tbody tr th {\n",
       "        vertical-align: top;\n",
       "    }\n",
       "\n",
       "    .dataframe thead th {\n",
       "        text-align: right;\n",
       "    }\n",
       "</style>\n",
       "<table border=\"1\" class=\"dataframe\">\n",
       "  <thead>\n",
       "    <tr style=\"text-align: right;\">\n",
       "      <th></th>\n",
       "      <th>Established Date</th>\n",
       "      <th>Acquired Date</th>\n",
       "    </tr>\n",
       "  </thead>\n",
       "  <tbody>\n",
       "    <tr>\n",
       "      <th>204</th>\n",
       "      <td>1800-01-01</td>\n",
       "      <td>1996-07-14</td>\n",
       "    </tr>\n",
       "    <tr>\n",
       "      <th>225</th>\n",
       "      <td>1800-01-01</td>\n",
       "      <td>1996-07-14</td>\n",
       "    </tr>\n",
       "    <tr>\n",
       "      <th>226</th>\n",
       "      <td>1800-01-01</td>\n",
       "      <td>1996-07-14</td>\n",
       "    </tr>\n",
       "    <tr>\n",
       "      <th>213</th>\n",
       "      <td>1800-01-01</td>\n",
       "      <td>1996-07-14</td>\n",
       "    </tr>\n",
       "    <tr>\n",
       "      <th>212</th>\n",
       "      <td>1800-01-01</td>\n",
       "      <td>1996-07-14</td>\n",
       "    </tr>\n",
       "    <tr>\n",
       "      <th>...</th>\n",
       "      <td>...</td>\n",
       "      <td>...</td>\n",
       "    </tr>\n",
       "    <tr>\n",
       "      <th>5409</th>\n",
       "      <td>2016-02-02</td>\n",
       "      <td>NaT</td>\n",
       "    </tr>\n",
       "    <tr>\n",
       "      <th>5410</th>\n",
       "      <td>2016-03-15</td>\n",
       "      <td>NaT</td>\n",
       "    </tr>\n",
       "    <tr>\n",
       "      <th>5405</th>\n",
       "      <td>2016-04-26</td>\n",
       "      <td>NaT</td>\n",
       "    </tr>\n",
       "    <tr>\n",
       "      <th>5406</th>\n",
       "      <td>2016-05-10</td>\n",
       "      <td>NaT</td>\n",
       "    </tr>\n",
       "    <tr>\n",
       "      <th>5407</th>\n",
       "      <td>2016-05-24</td>\n",
       "      <td>NaT</td>\n",
       "    </tr>\n",
       "  </tbody>\n",
       "</table>\n",
       "<p>5413 rows × 2 columns</p>\n",
       "</div>"
      ],
      "text/plain": [
       "     Established Date Acquired Date\n",
       "204        1800-01-01    1996-07-14\n",
       "225        1800-01-01    1996-07-14\n",
       "226        1800-01-01    1996-07-14\n",
       "213        1800-01-01    1996-07-14\n",
       "212        1800-01-01    1996-07-14\n",
       "...               ...           ...\n",
       "5409       2016-02-02           NaT\n",
       "5410       2016-03-15           NaT\n",
       "5405       2016-04-26           NaT\n",
       "5406       2016-05-10           NaT\n",
       "5407       2016-05-24           NaT\n",
       "\n",
       "[5413 rows x 2 columns]"
      ]
     },
     "execution_count": 25,
     "metadata": {},
     "output_type": "execute_result"
    }
   ],
   "source": [
    "# Establishment and Acquisition dates columns\n",
    "trend = data.sort_values(by = 'Established Date',ascending=True)[['Established Date', 'Acquired Date']]\n",
    "trend"
   ]
  },
  {
   "cell_type": "code",
   "execution_count": 26,
   "id": "998a0f38",
   "metadata": {
    "execution": {
     "iopub.execute_input": "2024-06-13T18:29:29.798350Z",
     "iopub.status.busy": "2024-06-13T18:29:29.797427Z",
     "iopub.status.idle": "2024-06-13T18:29:29.806750Z",
     "shell.execute_reply": "2024-06-13T18:29:29.805540Z"
    },
    "papermill": {
     "duration": 0.026918,
     "end_time": "2024-06-13T18:29:29.809139",
     "exception": false,
     "start_time": "2024-06-13T18:29:29.782221",
     "status": "completed"
    },
    "tags": []
   },
   "outputs": [
    {
     "data": {
      "text/plain": [
       "0   1824-01-01\n",
       "Name: Established Date, dtype: datetime64[ns]"
      ]
     },
     "execution_count": 26,
     "metadata": {},
     "output_type": "execute_result"
    }
   ],
   "source": [
    "first_est = data['Established Date']\n",
    "first_est.head(1)"
   ]
  },
  {
   "cell_type": "code",
   "execution_count": 27,
   "id": "e746428e",
   "metadata": {
    "execution": {
     "iopub.execute_input": "2024-06-13T18:29:29.838463Z",
     "iopub.status.busy": "2024-06-13T18:29:29.838075Z",
     "iopub.status.idle": "2024-06-13T18:29:29.845672Z",
     "shell.execute_reply": "2024-06-13T18:29:29.844658Z"
    },
    "papermill": {
     "duration": 0.025202,
     "end_time": "2024-06-13T18:29:29.848202",
     "exception": false,
     "start_time": "2024-06-13T18:29:29.823000",
     "status": "completed"
    },
    "tags": []
   },
   "outputs": [
    {
     "data": {
      "text/plain": [
       "5412   2016-01-01\n",
       "Name: Established Date, dtype: datetime64[ns]"
      ]
     },
     "execution_count": 27,
     "metadata": {},
     "output_type": "execute_result"
    }
   ],
   "source": [
    "last_est = data['Established Date']\n",
    "last_est.tail(1)"
   ]
  },
  {
   "cell_type": "code",
   "execution_count": 28,
   "id": "d000eb16",
   "metadata": {
    "execution": {
     "iopub.execute_input": "2024-06-13T18:29:29.884870Z",
     "iopub.status.busy": "2024-06-13T18:29:29.883930Z",
     "iopub.status.idle": "2024-06-13T18:29:29.891833Z",
     "shell.execute_reply": "2024-06-13T18:29:29.890659Z"
    },
    "papermill": {
     "duration": 0.025817,
     "end_time": "2024-06-13T18:29:29.894104",
     "exception": false,
     "start_time": "2024-06-13T18:29:29.868287",
     "status": "completed"
    },
    "tags": []
   },
   "outputs": [
    {
     "name": "stdout",
     "output_type": "stream",
     "text": [
      "First Acquisition Date: 1975-01-18 00:00:00\n"
     ]
    }
   ],
   "source": [
    "# Getting First Acquisition Date\n",
    "first_acquisition_date = data['Acquired Date'].dropna().min()\n",
    "\n",
    "print(\"First Acquisition Date:\", first_acquisition_date)"
   ]
  },
  {
   "cell_type": "code",
   "execution_count": 29,
   "id": "900c26e7",
   "metadata": {
    "execution": {
     "iopub.execute_input": "2024-06-13T18:29:29.925030Z",
     "iopub.status.busy": "2024-06-13T18:29:29.924585Z",
     "iopub.status.idle": "2024-06-13T18:29:29.932542Z",
     "shell.execute_reply": "2024-06-13T18:29:29.931092Z"
    },
    "papermill": {
     "duration": 0.026275,
     "end_time": "2024-06-13T18:29:29.935005",
     "exception": false,
     "start_time": "2024-06-13T18:29:29.908730",
     "status": "completed"
    },
    "tags": []
   },
   "outputs": [
    {
     "name": "stdout",
     "output_type": "stream",
     "text": [
      "Last Acquisition Date: 2011-10-14 00:00:00\n"
     ]
    }
   ],
   "source": [
    "#Getting Last Acquisition Date\n",
    "last_acquisition_date = data['Acquired Date'].dropna().max()\n",
    "\n",
    "print(\"Last Acquisition Date:\", last_acquisition_date)"
   ]
  },
  {
   "cell_type": "markdown",
   "id": "274a90a6",
   "metadata": {
    "papermill": {
     "duration": 0.014565,
     "end_time": "2024-06-13T18:29:29.963447",
     "exception": false,
     "start_time": "2024-06-13T18:29:29.948882",
     "status": "completed"
    },
    "tags": []
   },
   "source": [
    "**Visualizations**"
   ]
  },
  {
   "cell_type": "code",
   "execution_count": 30,
   "id": "788d406d",
   "metadata": {
    "execution": {
     "iopub.execute_input": "2024-06-13T18:29:29.993494Z",
     "iopub.status.busy": "2024-06-13T18:29:29.993093Z",
     "iopub.status.idle": "2024-06-13T18:29:30.823437Z",
     "shell.execute_reply": "2024-06-13T18:29:30.822424Z"
    },
    "papermill": {
     "duration": 0.848579,
     "end_time": "2024-06-13T18:29:30.826168",
     "exception": false,
     "start_time": "2024-06-13T18:29:29.977589",
     "status": "completed"
    },
    "tags": []
   },
   "outputs": [
    {
     "data": {
      "image/png": "[encoded data removed]",
      "text/plain": [
       "<Figure size 1200x600 with 1 Axes>"
      ]
     },
     "metadata": {},
     "output_type": "display_data"
    }
   ],
   "source": [
    "plt.figure(figsize=(12,6))  # Set the figure size to 12 inches wide and 6 inches high\n",
    "data['Established Date'].dt.year.value_counts().plot(kind='bar')\n",
    "plt.title(\"Branches Established by Year\")\n",
    "plt.ylabel(\"Number of Branches\")\n",
    "plt.xticks([])  # Remove x-axis labels\n",
    "plt.savefig('branches_established_by_year.png')\n",
    "plt.show()"
   ]
  },
  {
   "cell_type": "code",
   "execution_count": null,
   "id": "dd8458f2",
   "metadata": {
    "papermill": {
     "duration": 0.013924,
     "end_time": "2024-06-13T18:29:30.854682",
     "exception": false,
     "start_time": "2024-06-13T18:29:30.840758",
     "status": "completed"
    },
    "tags": []
   },
   "outputs": [],
   "source": []
  },
  {
   "cell_type": "code",
   "execution_count": 31,
   "id": "e8cbad3b",
   "metadata": {
    "execution": {
     "iopub.execute_input": "2024-06-13T18:29:30.884870Z",
     "iopub.status.busy": "2024-06-13T18:29:30.884334Z",
     "iopub.status.idle": "2024-06-13T18:29:31.309517Z",
     "shell.execute_reply": "2024-06-13T18:29:31.308244Z"
    },
    "papermill": {
     "duration": 0.443201,
     "end_time": "2024-06-13T18:29:31.312121",
     "exception": false,
     "start_time": "2024-06-13T18:29:30.868920",
     "status": "completed"
    },
    "tags": []
   },
   "outputs": [
    {
     "data": {
      "image/png": "[encoded data removed]",
      "text/plain": [
       "<Figure size 640x480 with 1 Axes>"
      ]
     },
     "metadata": {},
     "output_type": "display_data"
    }
   ],
   "source": [
    "data['Acquired Date'].dt.year.value_counts().plot(kind='bar')\n",
    "plt.title(\"Branches Acquired by Year\")\n",
    "plt.xlabel(\"Year\")\n",
    "plt.ylabel(\"Number of Branches\")\n",
    "plt.savefig('branches_acquired_by_year.png')\n",
    "plt.show()"
   ]
  },
  {
   "cell_type": "code",
   "execution_count": null,
   "id": "a1888cce",
   "metadata": {
    "papermill": {
     "duration": 0.014406,
     "end_time": "2024-06-13T18:29:31.341721",
     "exception": false,
     "start_time": "2024-06-13T18:29:31.327315",
     "status": "completed"
    },
    "tags": []
   },
   "outputs": [],
   "source": []
  }
 ],
 "metadata": {
  "kaggle": {
   "accelerator": "none",
   "dataSources": [
    {
     "datasetId": 971,
     "sourceId": 1770,
     "sourceType": "datasetVersion"
    }
   ],
   "dockerImageVersionId": 30732,
   "isGpuEnabled": false,
   "isInternetEnabled": true,
   "language": "python",
   "sourceType": "notebook"
  },
  "kernelspec": {
   "display_name": "Python 3",
   "language": "python",
   "name": "python3"
  },
  "language_info": {
   "codemirror_mode": {
    "name": "ipython",
    "version": 3
   },
   "file_extension": ".py",
   "mimetype": "text/x-python",
   "name": "python",
   "nbconvert_exporter": "python",
   "pygments_lexer": "ipython3",
   "version": "3.10.13"
  },
  "papermill": {
   "default_parameters": {},
   "duration": 9.378785,
   "end_time": "2024-06-13T18:29:31.977490",
   "environment_variables": {},
   "exception": null,
   "input_path": "__notebook__.ipynb",
   "output_path": "__notebook__.ipynb",
   "parameters": {},
   "start_time": "2024-06-13T18:29:22.598705",
   "version": "2.5.0"
  }
 },
 "nbformat": 4,
 "nbformat_minor": 5
}
